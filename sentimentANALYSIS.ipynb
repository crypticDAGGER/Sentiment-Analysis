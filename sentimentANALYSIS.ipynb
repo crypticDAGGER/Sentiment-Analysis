{
 "cells": [
  {
   "cell_type": "code",
   "execution_count": 15,
   "metadata": {},
   "outputs": [],
   "source": [
    "import tweepy"
   ]
  },
  {
   "cell_type": "code",
   "execution_count": 16,
   "metadata": {},
   "outputs": [],
   "source": [
    "from textblob import TextBlob"
   ]
  },
  {
   "cell_type": "code",
   "execution_count": 17,
   "metadata": {},
   "outputs": [],
   "source": [
    "import matplotlib.pyplot as plt\n"
   ]
  },
  {
   "cell_type": "code",
   "execution_count": null,
   "metadata": {},
   "outputs": [],
   "source": [
    "#below are the access tokens acquired from twitter site after the promise of not using them for surveillance or goverment purposes"
   ]
  },
  {
   "cell_type": "code",
   "execution_count": 18,
   "metadata": {},
   "outputs": [],
   "source": [
    "consumer_key = \"R7Ai8IAo0NIUeOkiCADGyxLCa\""
   ]
  },
  {
   "cell_type": "code",
   "execution_count": 19,
   "metadata": {},
   "outputs": [],
   "source": [
    "consumer_secret = \"ljTaMoHKxI4ZEKfg3cI5QqS8wzpy2L1h5LASHmQEkUHi5kvcS6\""
   ]
  },
  {
   "cell_type": "code",
   "execution_count": 20,
   "metadata": {},
   "outputs": [],
   "source": [
    "access_token = \"1075250082281336832-MF11LkjidwUcWkiAhtnHvL1jwhWwwZ\""
   ]
  },
  {
   "cell_type": "code",
   "execution_count": 21,
   "metadata": {},
   "outputs": [],
   "source": [
    "access_token_secret = \"FYEueV0uWhCoyx0wrDEqXMkJYBoYH4aMon0TOWpZSjK9f\""
   ]
  },
  {
   "cell_type": "code",
   "execution_count": 22,
   "metadata": {},
   "outputs": [],
   "source": [
    " auth = tweepy.OAuthHandler(consumer_key,consumer_secret)\n"
   ]
  },
  {
   "cell_type": "code",
   "execution_count": 23,
   "metadata": {},
   "outputs": [],
   "source": [
    "auth.set_access_token(access_token,access_token_secret)"
   ]
  },
  {
   "cell_type": "code",
   "execution_count": 24,
   "metadata": {},
   "outputs": [],
   "source": [
    "api = tweepy.API(auth)"
   ]
  },
  {
   "cell_type": "code",
   "execution_count": 25,
   "metadata": {},
   "outputs": [],
   "source": [
    "public_tweets = api.search('india')"
   ]
  },
  {
   "cell_type": "code",
   "execution_count": 26,
   "metadata": {},
   "outputs": [
    {
     "name": "stdout",
     "output_type": "stream",
     "text": [
      "RT @shwetankbhushan: Bihar MLA of RJD, Raj Ballabh Yadav convicted of raping schoolgirl. Expect pin-drop silence from the Mahagathbandhan a…\n",
      "RT @theworldindex: Judicial independence, 2018. (of 140 countries)\n",
      "\n",
      "1.🇫🇮Finland\n",
      "2.🇨🇭Switzerland\n",
      "3.🇳🇿NZ\n",
      "\n",
      "6.🇨🇦Canada\n",
      "10.🇯🇵Japan\n",
      "13.🇬🇧UK\n",
      "15.🇺🇸…\n",
      "RT @ahmedpatel: India’s health governance structure is in total collapse \n",
      "\n",
      "Multiple vacancies in Directorate of Health Services for last 4.…\n",
      "RT @ANI: #WATCH Indian National Hamid Ansari who came to India after being released from a Pakistan jail yesterday, meets External Affairs…\n",
      "RT @ShekharGupta: Why Congress’s loan waivers light up a new round of competitive populism and terrible economics...\n",
      "\n",
      "And why, in today’s I…\n",
      "RT @APanagariya: A sad race to the bottom has begun. If loan waivers would fundamentally alleviate farmers’ plight, waivers would be a welc…\n",
      "RT @AskAnshul: How many Bangladeshis in India:\n",
      "Govt: 2 Crore.\n",
      "Ex Army officer: 6 Crore.\n",
      "\n",
      "No secular Politician has ever said that Banglades…\n",
      "RT @ShiveshKashyap5: @BeyondSlavery It is very easy to raise your fingers on something but the thing is since you're a proclaimed activist,…\n",
      "RT @INCIndia: I was not the Prime Minister who was afraid of talking to the press: Former PM Dr. Manmohan Singh at the launch of his book,…\n",
      "RT @Adv_AnkurSharma: 70% of India's total population still lives in rural parts.\n",
      "\n",
      "Urban population is 30%\n",
      "\n",
      "BJP must understand the basic ca…\n",
      "RT @ANI: #WATCH Indian National Hamid Ansari who came to India after being released from a Pakistan jail yesterday, meets External Affairs…\n",
      "RT @PadmajaJoshi: Bulandshahr: Police say four held for cow slaughter are innocent, three more held. First, booked 2 minors...Then arrested…\n",
      "RT @kavita_tewari: Then why they still  illegally want to live in India ...do u have balls to give reasons? https://t.co/Ewfpc14JPg\n",
      "RT @Saurabh_Ndtv: \"16 Days On, Murderers Still Roaming Free\": Wife Of UP Cop Killed By Mob\n",
      "https://t.co/aK88128TqH\n",
      "RT @padhalikha: Govt. doesn't need to be in airline business. \n",
      "\n",
      "Manmohan &amp; Chidu spent 80,000 cr to buy planes for Air India &amp; keep it aflo…\n"
     ]
    }
   ],
   "source": [
    "for tweet in public_tweets:\n",
    "    print(tweet.text)"
   ]
  },
  {
   "cell_type": "code",
   "execution_count": 27,
   "metadata": {},
   "outputs": [],
   "source": [
    "analysis = TextBlob(tweet.text)"
   ]
  },
  {
   "cell_type": "code",
   "execution_count": 28,
   "metadata": {},
   "outputs": [
    {
     "name": "stdout",
     "output_type": "stream",
     "text": [
      "Sentiment(polarity=-0.1, subjectivity=0.1)\n"
     ]
    }
   ],
   "source": [
    "print(analysis.sentiment)\n"
   ]
  },
  {
   "cell_type": "code",
   "execution_count": 29,
   "metadata": {},
   "outputs": [],
   "source": [
    "# india has a negative polarity of .1 based on the tweets ."
   ]
  },
  {
   "cell_type": "code",
   "execution_count": null,
   "metadata": {},
   "outputs": [],
   "source": []
  },
  {
   "cell_type": "code",
   "execution_count": null,
   "metadata": {},
   "outputs": [],
   "source": []
  }
 ],
 "metadata": {
  "kernelspec": {
   "display_name": "Python 3",
   "language": "python",
   "name": "python3"
  },
  "language_info": {
   "codemirror_mode": {
    "name": "ipython",
    "version": 3
   },
   "file_extension": ".py",
   "mimetype": "text/x-python",
   "name": "python",
   "nbconvert_exporter": "python",
   "pygments_lexer": "ipython3",
   "version": "3.7.0"
  }
 },
 "nbformat": 4,
 "nbformat_minor": 2
}
